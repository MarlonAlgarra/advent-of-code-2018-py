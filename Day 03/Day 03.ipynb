{
 "cells": [
  {
   "cell_type": "markdown",
   "id": "dd081dee",
   "metadata": {},
   "source": [
    "# Day Three:"
   ]
  },
  {
   "cell_type": "code",
   "execution_count": 1,
   "id": "7a5e0b85",
   "metadata": {},
   "outputs": [],
   "source": [
    "with open(\"Day03.txt\", \"r\") as f:\n",
    "    txt_list = [str(line.strip()) for line in f]"
   ]
  },
  {
   "cell_type": "markdown",
   "id": "a099c0c7",
   "metadata": {},
   "source": [
    "## Part one:"
   ]
  },
  {
   "cell_type": "code",
   "execution_count": 2,
   "id": "030556ef",
   "metadata": {},
   "outputs": [
    {
     "name": "stdout",
     "output_type": "stream",
     "text": [
      "118858\n"
     ]
    }
   ],
   "source": [
    "result = 0\n",
    "val = [0] * 1000\n",
    "for x in range (1000):\n",
    "    val[x] = [0] * 1000\n",
    "for item in txt_list:\n",
    "    tempId = int(item.split('@')[0].strip()[1:]) \n",
    "    coord = [int(i) for i in item.split('@')[1].split(':')[0].strip().split(',')]\n",
    "    size = [int(i) for i in item.split('@')[1].split(':')[1].strip().split('x')]\n",
    "    for xVal in range(0,size[0]):\n",
    "        for yVal in range(0,size[1]):\n",
    "            val[coord[0]+xVal][coord[1]+yVal] += 1\n",
    "            if val[coord[0]+xVal][coord[1]+yVal]>1 and val[coord[0]+xVal][coord[1]+yVal]<3:\n",
    "                result+=1          \n",
    "print(result)"
   ]
  },
  {
   "cell_type": "markdown",
   "id": "040491c9",
   "metadata": {},
   "source": [
    "## Part two:"
   ]
  },
  {
   "cell_type": "code",
   "execution_count": 3,
   "id": "b34407c4",
   "metadata": {},
   "outputs": [
    {
     "name": "stdout",
     "output_type": "stream",
     "text": [
      "1100\n"
     ]
    }
   ],
   "source": [
    "flag = False;\n",
    "for item in txt_list:\n",
    "    tempId = int(item.split('@')[0].strip()[1:]) \n",
    "    coord = [int(i) for i in item.split('@')[1].split(':')[0].strip().split(',')]\n",
    "    size = [int(i) for i in item.split('@')[1].split(':')[1].strip().split('x')]\n",
    "    flag = True;\n",
    "    for xVal in range(0,size[0]):\n",
    "        for yVal in range(0,size[1]):\n",
    "            if val[coord[0]+xVal][coord[1]+yVal]>1:\n",
    "                flag = False\n",
    "    if(flag):\n",
    "        print(tempId)\n",
    "        break"
   ]
  }
 ],
 "metadata": {
  "kernelspec": {
   "display_name": "Python 3",
   "language": "python",
   "name": "python3"
  },
  "language_info": {
   "codemirror_mode": {
    "name": "ipython",
    "version": 3
   },
   "file_extension": ".py",
   "mimetype": "text/x-python",
   "name": "python",
   "nbconvert_exporter": "python",
   "pygments_lexer": "ipython3",
   "version": "3.8.8"
  }
 },
 "nbformat": 4,
 "nbformat_minor": 5
}
