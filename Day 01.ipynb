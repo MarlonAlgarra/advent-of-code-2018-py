{
 "cells": [
  {
   "cell_type": "markdown",
   "id": "3a454d78",
   "metadata": {},
   "source": [
    "# Day One:"
   ]
  },
  {
   "cell_type": "code",
   "execution_count": 1,
   "id": "4baca1e7",
   "metadata": {},
   "outputs": [],
   "source": [
    "with open(\"Day01.txt\", \"r\") as f:\n",
    "    txt_list = [int(line.strip()) for line in f]"
   ]
  },
  {
   "cell_type": "markdown",
   "id": "38226996",
   "metadata": {},
   "source": [
    "## Part 1"
   ]
  },
  {
   "cell_type": "code",
   "execution_count": 2,
   "id": "0122a596",
   "metadata": {},
   "outputs": [
    {
     "name": "stdout",
     "output_type": "stream",
     "text": [
      "538\n",
      "Wall time: 0 ns\n"
     ]
    }
   ],
   "source": [
    "%%time\n",
    "print(sum(txt_list))"
   ]
  },
  {
   "cell_type": "markdown",
   "id": "43ff1714",
   "metadata": {},
   "source": [
    "## Part 2\n",
    "\n",
    "First Attempt (Very slow):"
   ]
  },
  {
   "cell_type": "code",
   "execution_count": 3,
   "id": "caa08c71",
   "metadata": {},
   "outputs": [
    {
     "name": "stdout",
     "output_type": "stream",
     "text": [
      "77259\n",
      "Wall time: 1min 53s\n"
     ]
    }
   ],
   "source": [
    "%%time\n",
    "cache=[]; \n",
    "indexer=0; count = 0;\n",
    "lenList = len(txt_list)\n",
    "while True:\n",
    "    count += txt_list[indexer%lenList]\n",
    "    indexer += 1\n",
    "    if count in cache:\n",
    "        break\n",
    "    cache.append(count)\n",
    "print(cache[-1])"
   ]
  },
  {
   "cell_type": "markdown",
   "id": "37966f46",
   "metadata": {},
   "source": [
    "Second Attempt:"
   ]
  },
  {
   "cell_type": "code",
   "execution_count": 4,
   "id": "694fc050",
   "metadata": {},
   "outputs": [
    {
     "name": "stdout",
     "output_type": "stream",
     "text": [
      "77271\n",
      "Wall time: 1.61 s\n"
     ]
    }
   ],
   "source": [
    "%%time\n",
    "cache=[]; \n",
    "check = 0;\n",
    "lenList = len(txt_list)\n",
    "while True:\n",
    "    cacheTemp = [check+sum(txt_list[:i]) for i in range(1,lenList+1)]\n",
    "    cache.extend(cacheTemp)\n",
    "    check=cache[-1]\n",
    "    if len(cache)>len(set(cache)):\n",
    "        break\n",
    "for i in cacheTemp:\n",
    "    if cache.count(i)>1:\n",
    "        print(i)\n",
    "        break"
   ]
  }
 ],
 "metadata": {
  "kernelspec": {
   "display_name": "Python 3",
   "language": "python",
   "name": "python3"
  },
  "language_info": {
   "codemirror_mode": {
    "name": "ipython",
    "version": 3
   },
   "file_extension": ".py",
   "mimetype": "text/x-python",
   "name": "python",
   "nbconvert_exporter": "python",
   "pygments_lexer": "ipython3",
   "version": "3.8.8"
  }
 },
 "nbformat": 4,
 "nbformat_minor": 5
}
