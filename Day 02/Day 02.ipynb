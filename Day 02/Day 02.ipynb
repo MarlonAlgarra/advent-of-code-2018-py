{
 "cells": [
  {
   "cell_type": "markdown",
   "id": "fbaf3db7",
   "metadata": {},
   "source": [
    "# Day 02"
   ]
  },
  {
   "cell_type": "code",
   "execution_count": 1,
   "id": "239449ea",
   "metadata": {},
   "outputs": [],
   "source": [
    "with open(\"Day02.txt\", \"r\") as f:\n",
    "    txt_list = [str(line.strip()) for line in f]"
   ]
  },
  {
   "cell_type": "markdown",
   "id": "c69c07c1",
   "metadata": {},
   "source": [
    "## Part one:"
   ]
  },
  {
   "cell_type": "code",
   "execution_count": 2,
   "id": "aeef87aa",
   "metadata": {},
   "outputs": [
    {
     "name": "stdout",
     "output_type": "stream",
     "text": [
      "6888\n"
     ]
    }
   ],
   "source": [
    "countA = 0; countB = 0;\n",
    "for item in txt_list:\n",
    "    tempSet = set(item)\n",
    "    flagA = True; flagB = True\n",
    "    for i in tempSet:\n",
    "        tempCount = item.count(i)\n",
    "        if(tempCount==2 and flagA):\n",
    "            countA+=1\n",
    "            flagA = False\n",
    "        if(tempCount==3 and flagB):\n",
    "            countB+=1\n",
    "            flagB = False\n",
    "\n",
    "print(countA*countB)"
   ]
  },
  {
   "cell_type": "markdown",
   "id": "7484405c",
   "metadata": {},
   "source": [
    "Part Two"
   ]
  },
  {
   "cell_type": "code",
   "execution_count": 3,
   "id": "f94ddcf4",
   "metadata": {},
   "outputs": [
    {
     "name": "stdout",
     "output_type": "stream",
     "text": [
      "icxjvbrobtunlelzpdmfkahgs\n"
     ]
    }
   ],
   "source": [
    "flag=False\n",
    "for item in txt_list:\n",
    "    for item2 in txt_list:\n",
    "        if (item != item2):\n",
    "            count = 0\n",
    "            for i in range(0,len(item)):\n",
    "                if not (item[i]==item2[i]):\n",
    "                    count+=1\n",
    "                if count>2:\n",
    "                    break\n",
    "            if count==1:\n",
    "                result=''\n",
    "                for j in range(0,len(item)):\n",
    "                    if(item[j]==item2[j]):\n",
    "                        result = result + item[j]\n",
    "                flag = True\n",
    "                break\n",
    "        if flag:\n",
    "            break\n",
    "print(result)"
   ]
  }
 ],
 "metadata": {
  "kernelspec": {
   "display_name": "Python 3",
   "language": "python",
   "name": "python3"
  },
  "language_info": {
   "codemirror_mode": {
    "name": "ipython",
    "version": 3
   },
   "file_extension": ".py",
   "mimetype": "text/x-python",
   "name": "python",
   "nbconvert_exporter": "python",
   "pygments_lexer": "ipython3",
   "version": "3.8.8"
  }
 },
 "nbformat": 4,
 "nbformat_minor": 5
}
